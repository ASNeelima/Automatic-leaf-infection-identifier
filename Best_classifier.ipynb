{
  "nbformat": 4,
  "nbformat_minor": 0,
  "metadata": {
    "colab": {
      "name": "Best_classifier.ipynb",
      "version": "0.3.2",
      "provenance": []
    },
    "kernelspec": {
      "name": "python3",
      "display_name": "Python 3"
    },
    "accelerator": "TPU"
  },
  "cells": [
    {
      "metadata": {
        "id": "LtuAkNYJJCiy",
        "colab_type": "code",
        "colab": {}
      },
      "cell_type": "code",
      "source": [
        "import pandas as pd\n",
        "import numpy as np\n",
        "import matplotlib.pyplot as plt\n",
        "import warnings\n",
        "warnings.filterwarnings('ignore')"
      ],
      "execution_count": 0,
      "outputs": []
    },
    {
      "metadata": {
        "id": "mCUGXE8ITrS-",
        "colab_type": "code",
        "colab": {}
      },
      "cell_type": "code",
      "source": [
        "from sklearn.svm import SVC\n",
        "from sklearn.linear_model import LogisticRegression\n",
        "from sklearn.neighbors import KNeighborsClassifier\n",
        "from sklearn.ensemble import RandomForestClassifier,GradientBoostingClassifier\n",
        "from sklearn.tree import DecisionTreeClassifier\n",
        "from sklearn.naive_bayes import GaussianNB\n",
        "from xgboost import XGBClassifier"
      ],
      "execution_count": 0,
      "outputs": []
    },
    {
      "metadata": {
        "id": "9t75lDDtTt4O",
        "colab_type": "code",
        "colab": {}
      },
      "cell_type": "code",
      "source": [
        "MLA=[SVC(),\n",
        "    LogisticRegression(),\n",
        "    KNeighborsClassifier(3),\n",
        "    RandomForestClassifier(),\n",
        "    GradientBoostingClassifier(),\n",
        "    DecisionTreeClassifier(),\n",
        "    GaussianNB(),\n",
        "    XGBClassifier()\n",
        "   ]"
      ],
      "execution_count": 0,
      "outputs": []
    },
    {
      "metadata": {
        "id": "xeKma42ATwrc",
        "colab_type": "code",
        "colab": {}
      },
      "cell_type": "code",
      "source": [
        "dataset=pd.read_csv('Datasetinfectedhealthy.csv')"
      ],
      "execution_count": 0,
      "outputs": []
    },
    {
      "metadata": {
        "id": "Vnfdn6YTTz-q",
        "colab_type": "code",
        "colab": {
          "base_uri": "https://localhost:8080/",
          "height": 136
        },
        "outputId": "ef3de9bc-3940-4c12-aa2e-55e21f1980c1"
      },
      "cell_type": "code",
      "source": [
        "dataset.isnull().sum()"
      ],
      "execution_count": 29,
      "outputs": [
        {
          "output_type": "execute_result",
          "data": {
            "text/plain": [
              "fortnum     0\n",
              "imgid       0\n",
              "label       0\n",
              "feature1    0\n",
              "feature2    0\n",
              "feature3    0\n",
              "dtype: int64"
            ]
          },
          "metadata": {
            "tags": []
          },
          "execution_count": 29
        }
      ]
    },
    {
      "metadata": {
        "id": "baBvU1ZAT2p_",
        "colab_type": "code",
        "colab": {}
      },
      "cell_type": "code",
      "source": [
        "target=dataset['label'].values"
      ],
      "execution_count": 0,
      "outputs": []
    },
    {
      "metadata": {
        "id": "-uSKIeOXT6Ll",
        "colab_type": "code",
        "colab": {}
      },
      "cell_type": "code",
      "source": [
        "dataset.drop(['imgid','label'],axis=1,inplace=True)"
      ],
      "execution_count": 0,
      "outputs": []
    },
    {
      "metadata": {
        "id": "5kVCuoc7UaEq",
        "colab_type": "code",
        "colab": {}
      },
      "cell_type": "code",
      "source": [
        "from sklearn import model_selection\n",
        "cv_split=model_selection.ShuffleSplit(n_splits=10,test_size=.3,train_size=.6,random_state=0)"
      ],
      "execution_count": 0,
      "outputs": []
    },
    {
      "metadata": {
        "id": "bqMEDeieUdKJ",
        "colab_type": "code",
        "colab": {}
      },
      "cell_type": "code",
      "source": [
        "MLA_columns = ['MLA Name', 'MLA Parameters','MLA Train Accuracy Mean', 'MLA Test Accuracy Mean','MLA Time']"
      ],
      "execution_count": 0,
      "outputs": []
    },
    {
      "metadata": {
        "id": "I0A8IaXOUf9V",
        "colab_type": "code",
        "colab": {}
      },
      "cell_type": "code",
      "source": [
        "MLA_compare=pd.DataFrame(columns=MLA_columns)"
      ],
      "execution_count": 0,
      "outputs": []
    },
    {
      "metadata": {
        "id": "nFlRnW0xUpOr",
        "colab_type": "code",
        "colab": {
          "base_uri": "https://localhost:8080/",
          "height": 433
        },
        "outputId": "5a3e314c-4467-4948-ae89-9d344ae0af69"
      },
      "cell_type": "code",
      "source": [
        "row_index=0\n",
        "for alg in MLA:\n",
        "     #set name and parameters\n",
        "        \n",
        "     MLA_Name=alg.__class__.__name__\n",
        "     MLA_compare.loc[row_index,'MLA Name']=MLA_Name\n",
        "     MLA_compare.loc[row_index,'MLA Parameters']=str(alg.get_params())\n",
        "     \n",
        "     cv_results=model_selection.cross_validate(alg,dataset,target,cv=cv_split)\n",
        "     MLA_compare.loc[row_index,'MLA Time']=cv_results['fit_time'].mean()\n",
        "     MLA_compare.loc[row_index,'MLA Train Accuracy Mean']=cv_results['train_score'].mean()\n",
        "     MLA_compare.loc[row_index,'MLA Test Accuracy Mean']=cv_results['test_score'].mean()\n",
        "     row_index+=1\n",
        "     \n",
        " \n",
        "MLA_compare"
      ],
      "execution_count": 35,
      "outputs": [
        {
          "output_type": "execute_result",
          "data": {
            "text/html": [
              "<div>\n",
              "<style scoped>\n",
              "    .dataframe tbody tr th:only-of-type {\n",
              "        vertical-align: middle;\n",
              "    }\n",
              "\n",
              "    .dataframe tbody tr th {\n",
              "        vertical-align: top;\n",
              "    }\n",
              "\n",
              "    .dataframe thead th {\n",
              "        text-align: right;\n",
              "    }\n",
              "</style>\n",
              "<table border=\"1\" class=\"dataframe\">\n",
              "  <thead>\n",
              "    <tr style=\"text-align: right;\">\n",
              "      <th></th>\n",
              "      <th>MLA Name</th>\n",
              "      <th>MLA Parameters</th>\n",
              "      <th>MLA Train Accuracy Mean</th>\n",
              "      <th>MLA Test Accuracy Mean</th>\n",
              "      <th>MLA Time</th>\n",
              "    </tr>\n",
              "  </thead>\n",
              "  <tbody>\n",
              "    <tr>\n",
              "      <th>0</th>\n",
              "      <td>SVC</td>\n",
              "      <td>{'C': 1.0, 'cache_size': 200, 'class_weight': ...</td>\n",
              "      <td>1</td>\n",
              "      <td>0.68</td>\n",
              "      <td>0.00223911</td>\n",
              "    </tr>\n",
              "    <tr>\n",
              "      <th>1</th>\n",
              "      <td>LogisticRegression</td>\n",
              "      <td>{'C': 1.0, 'class_weight': None, 'dual': False...</td>\n",
              "      <td>0.727941</td>\n",
              "      <td>0.654286</td>\n",
              "      <td>0.00171154</td>\n",
              "    </tr>\n",
              "    <tr>\n",
              "      <th>2</th>\n",
              "      <td>KNeighborsClassifier</td>\n",
              "      <td>{'algorithm': 'auto', 'leaf_size': 30, 'metric...</td>\n",
              "      <td>0.908824</td>\n",
              "      <td>0.685714</td>\n",
              "      <td>0.00207424</td>\n",
              "    </tr>\n",
              "    <tr>\n",
              "      <th>3</th>\n",
              "      <td>RandomForestClassifier</td>\n",
              "      <td>{'bootstrap': True, 'class_weight': None, 'cri...</td>\n",
              "      <td>0.986765</td>\n",
              "      <td>0.825714</td>\n",
              "      <td>0.00958986</td>\n",
              "    </tr>\n",
              "    <tr>\n",
              "      <th>4</th>\n",
              "      <td>GradientBoostingClassifier</td>\n",
              "      <td>{'criterion': 'friedman_mse', 'init': None, 'l...</td>\n",
              "      <td>1</td>\n",
              "      <td>0.885714</td>\n",
              "      <td>0.0356936</td>\n",
              "    </tr>\n",
              "    <tr>\n",
              "      <th>5</th>\n",
              "      <td>DecisionTreeClassifier</td>\n",
              "      <td>{'class_weight': None, 'criterion': 'gini', 'm...</td>\n",
              "      <td>1</td>\n",
              "      <td>0.857143</td>\n",
              "      <td>0.00141985</td>\n",
              "    </tr>\n",
              "    <tr>\n",
              "      <th>6</th>\n",
              "      <td>GaussianNB</td>\n",
              "      <td>{'priors': None, 'var_smoothing': 1e-09}</td>\n",
              "      <td>0.707353</td>\n",
              "      <td>0.64</td>\n",
              "      <td>0.00154357</td>\n",
              "    </tr>\n",
              "    <tr>\n",
              "      <th>7</th>\n",
              "      <td>XGBClassifier</td>\n",
              "      <td>{'base_score': 0.5, 'booster': 'gbtree', 'cols...</td>\n",
              "      <td>0.982353</td>\n",
              "      <td>0.842857</td>\n",
              "      <td>0.00883553</td>\n",
              "    </tr>\n",
              "  </tbody>\n",
              "</table>\n",
              "</div>"
            ],
            "text/plain": [
              "                     MLA Name  \\\n",
              "0                         SVC   \n",
              "1          LogisticRegression   \n",
              "2        KNeighborsClassifier   \n",
              "3      RandomForestClassifier   \n",
              "4  GradientBoostingClassifier   \n",
              "5      DecisionTreeClassifier   \n",
              "6                  GaussianNB   \n",
              "7               XGBClassifier   \n",
              "\n",
              "                                      MLA Parameters MLA Train Accuracy Mean  \\\n",
              "0  {'C': 1.0, 'cache_size': 200, 'class_weight': ...                       1   \n",
              "1  {'C': 1.0, 'class_weight': None, 'dual': False...                0.727941   \n",
              "2  {'algorithm': 'auto', 'leaf_size': 30, 'metric...                0.908824   \n",
              "3  {'bootstrap': True, 'class_weight': None, 'cri...                0.986765   \n",
              "4  {'criterion': 'friedman_mse', 'init': None, 'l...                       1   \n",
              "5  {'class_weight': None, 'criterion': 'gini', 'm...                       1   \n",
              "6           {'priors': None, 'var_smoothing': 1e-09}                0.707353   \n",
              "7  {'base_score': 0.5, 'booster': 'gbtree', 'cols...                0.982353   \n",
              "\n",
              "  MLA Test Accuracy Mean    MLA Time  \n",
              "0                   0.68  0.00223911  \n",
              "1               0.654286  0.00171154  \n",
              "2               0.685714  0.00207424  \n",
              "3               0.825714  0.00958986  \n",
              "4               0.885714   0.0356936  \n",
              "5               0.857143  0.00141985  \n",
              "6                   0.64  0.00154357  \n",
              "7               0.842857  0.00883553  "
            ]
          },
          "metadata": {
            "tags": []
          },
          "execution_count": 35
        }
      ]
    },
    {
      "metadata": {
        "id": "LpfRGM3xWEJc",
        "colab_type": "code",
        "colab": {}
      },
      "cell_type": "code",
      "source": [
        ""
      ],
      "execution_count": 0,
      "outputs": []
    }
  ]
}